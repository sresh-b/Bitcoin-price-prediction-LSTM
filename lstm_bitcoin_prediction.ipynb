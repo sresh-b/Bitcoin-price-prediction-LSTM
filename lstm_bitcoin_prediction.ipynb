{
  "nbformat": 4,
  "nbformat_minor": 0,
  "metadata": {
    "colab": {
      "name": "lstm_bitcoin_prediction.ipynb",
      "provenance": [],
      "collapsed_sections": []
    },
    "kernelspec": {
      "name": "python3",
      "display_name": "Python 3"
    },
    "language_info": {
      "name": "python"
    }
  },
  "cells": [
    {
      "cell_type": "code",
      "metadata": {
        "id": "hzWm3c742Y3V"
      },
      "source": [
        "#start implementing\n",
        "import numpy as np \n",
        "import pandas as pd \n",
        "from matplotlib import pyplot as plt\n",
        "\n",
        "from keras.models import Sequential\n",
        "from keras.layers import Dense\n",
        "from keras.layers import LSTM\n",
        "\n",
        "from sklearn.preprocessing import MinMaxScaler\n"
      ],
      "execution_count": null,
      "outputs": []
    },
    {
      "cell_type": "code",
      "metadata": {
        "colab": {
          "resources": {
            "http://localhost:8080/nbextensions/google.colab/files.js": {
              "data": "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",
              "ok": true,
              "headers": [
                [
                  "content-type",
                  "application/javascript"
                ]
              ],
              "status": 200,
              "status_text": ""
            }
          },
          "base_uri": "https://localhost:8080/",
          "height": 73
        },
        "id": "fWguPnnmo-gb",
        "outputId": "bcd35af9-4398-4928-873c-ee194b8c43f4"
      },
      "source": [
        "from google.colab import files\n",
        "uploaded = files.upload()"
      ],
      "execution_count": null,
      "outputs": [
        {
          "output_type": "display_data",
          "data": {
            "text/html": [
              "\n",
              "     <input type=\"file\" id=\"files-160c4747-c819-481a-b820-54d000a9930e\" name=\"files[]\" multiple disabled\n",
              "        style=\"border:none\" />\n",
              "     <output id=\"result-160c4747-c819-481a-b820-54d000a9930e\">\n",
              "      Upload widget is only available when the cell has been executed in the\n",
              "      current browser session. Please rerun this cell to enable.\n",
              "      </output>\n",
              "      <script src=\"/nbextensions/google.colab/files.js\"></script> "
            ],
            "text/plain": [
              "<IPython.core.display.HTML object>"
            ]
          },
          "metadata": {
            "tags": []
          }
        },
        {
          "output_type": "stream",
          "text": [
            "Saving btc_rev.csv to btc_rev (1).csv\n"
          ],
          "name": "stdout"
        }
      ]
    },
    {
      "cell_type": "code",
      "metadata": {
        "id": "gGQGz4ttAKij",
        "colab": {
          "base_uri": "https://localhost:8080/"
        },
        "outputId": "7dbf1af5-d62d-4d2c-b454-c3827297f773"
      },
      "source": [
        "#get and show the data\n",
        "df = pd.read_csv(\"btc_rev.csv\")\n",
        "print(df)"
      ],
      "execution_count": null,
      "outputs": [
        {
          "output_type": "stream",
          "text": [
            "                  Date      Open      High  ...     Close        Volume  Adj Close\n",
            "0     22-04-2021 00:00  53787.62  54275.48  ...  54070.00  2.605339e+08   54070.00\n",
            "1     22-04-2021 01:00  54070.00  54638.00  ...  53911.88  1.522568e+08   53911.88\n",
            "2     22-04-2021 02:00  53911.88  53958.56  ...  53760.82  4.558250e+08   53760.82\n",
            "3     22-04-2021 03:00  53760.81  54150.00  ...  53497.09  2.386448e+08   53497.09\n",
            "4     22-04-2021 04:00  53494.63  54356.79  ...  54271.67  1.697920e+08   54271.67\n",
            "...                ...       ...       ...  ...       ...           ...        ...\n",
            "2177  21-07-2021 20:00  31627.58  31936.10  ...  31796.90  1.099202e+08   31796.90\n",
            "2178  21-07-2021 21:00  31796.90  31967.77  ...  31835.03  4.276228e+07   31835.03\n",
            "2179  21-07-2021 22:00  31835.02  32163.97  ...  32114.12  6.257123e+07   32114.12\n",
            "2180  21-07-2021 23:00  32114.12  32247.63  ...  32144.51  9.098540e+07   32144.51\n",
            "2181  22-07-2021 00:00  32144.51  32207.72  ...  32200.01  3.384196e+07   32200.01\n",
            "\n",
            "[2182 rows x 7 columns]\n"
          ],
          "name": "stdout"
        }
      ]
    },
    {
      "cell_type": "code",
      "metadata": {
        "id": "zxT6e_eVFIDv"
      },
      "source": [
        "prediction_days = 24\n",
        "\n",
        "df_train= df[:len(df)-prediction_days]\n",
        "df_test= df[len(df)-prediction_days:]"
      ],
      "execution_count": null,
      "outputs": []
    },
    {
      "cell_type": "code",
      "metadata": {
        "id": "1jSTZXIuJBWq"
      },
      "source": [
        "#training_set = df_train.values\n",
        "#training_set = MinMaxScaler.fit_transform(training_set)\n",
        "\n",
        "#x_train = training_set[0:len(training_set)-1]\n",
        "#y_train = training_set[1:len(training_set)]\n",
        "#x_train = np.reshape(x_train, (len(x_train), 1, 1))"
      ],
      "execution_count": null,
      "outputs": []
    },
    {
      "cell_type": "code",
      "metadata": {
        "id": "mkNsgdToKFoe"
      },
      "source": [
        "#scal data\n",
        "scaler=MinMaxScaler(feature_range=(-1,1))\n",
        "training_set= scaler.fit_transform(df_train['Close'].values.reshape(-1,1))\n",
        "x_train = training_set[0:len(training_set)-1]\n",
        "y_train = training_set[1:len(training_set)]\n",
        "x_train = np.reshape(x_train, (len(x_train), 1, 1))\n",
        "#print(scalleddf)\n"
      ],
      "execution_count": null,
      "outputs": []
    },
    {
      "cell_type": "code",
      "metadata": {
        "id": "zaBF7GYnL6kt",
        "colab": {
          "base_uri": "https://localhost:8080/"
        },
        "outputId": "d7497803-5716-4e8f-d882-4ff483f8ac79"
      },
      "source": [
        "num_units = 4\n",
        "activation_function = 'relu'\n",
        "optimizer = 'adam'\n",
        "loss_function = 'mean_squared_error'\n",
        "batch_size = 5\n",
        "num_epochs = 100\n",
        "\n",
        "# Initialize the RNN\n",
        "regressor = Sequential()\n",
        "\n",
        "# Adding the input layer and the LSTM layer\n",
        "regressor.add(LSTM(units = num_units, activation = activation_function, input_shape=(None, 1)))\n",
        "\n",
        "# Adding the output layer\n",
        "regressor.add(Dense(units = 1))\n",
        "\n",
        "# Compiling the RNN\n",
        "regressor.compile(optimizer = optimizer, loss = loss_function)\n",
        "\n",
        "# Using the training set to train the model\n",
        "regressor.fit(x_train, y_train, batch_size = batch_size, epochs = num_epochs)"
      ],
      "execution_count": null,
      "outputs": [
        {
          "output_type": "stream",
          "text": [
            "Epoch 1/100\n",
            "432/432 [==============================] - 23s 1ms/step - loss: 0.3216\n",
            "Epoch 2/100\n",
            "432/432 [==============================] - 1s 2ms/step - loss: 0.1197\n",
            "Epoch 3/100\n",
            "432/432 [==============================] - 1s 1ms/step - loss: 0.0493\n",
            "Epoch 4/100\n",
            "432/432 [==============================] - 1s 1ms/step - loss: 0.0251\n",
            "Epoch 5/100\n",
            "432/432 [==============================] - 1s 1ms/step - loss: 0.0110\n",
            "Epoch 6/100\n",
            "432/432 [==============================] - 1s 1ms/step - loss: 0.0059\n",
            "Epoch 7/100\n",
            "432/432 [==============================] - 1s 1ms/step - loss: 0.0034\n",
            "Epoch 8/100\n",
            "432/432 [==============================] - 1s 1ms/step - loss: 0.0019\n",
            "Epoch 9/100\n",
            "432/432 [==============================] - 1s 1ms/step - loss: 0.0014\n",
            "Epoch 10/100\n",
            "432/432 [==============================] - 1s 1ms/step - loss: 9.6846e-04\n",
            "Epoch 11/100\n",
            "432/432 [==============================] - 1s 1ms/step - loss: 9.9954e-04\n",
            "Epoch 12/100\n",
            "432/432 [==============================] - 1s 1ms/step - loss: 9.6333e-04\n",
            "Epoch 13/100\n",
            "432/432 [==============================] - 1s 1ms/step - loss: 9.0385e-04\n",
            "Epoch 14/100\n",
            "432/432 [==============================] - 1s 1ms/step - loss: 7.7186e-04\n",
            "Epoch 15/100\n",
            "432/432 [==============================] - 1s 1ms/step - loss: 8.6682e-04\n",
            "Epoch 16/100\n",
            "432/432 [==============================] - 1s 1ms/step - loss: 9.3336e-04\n",
            "Epoch 17/100\n",
            "432/432 [==============================] - 1s 1ms/step - loss: 9.5642e-04\n",
            "Epoch 18/100\n",
            "432/432 [==============================] - 1s 2ms/step - loss: 8.4738e-04\n",
            "Epoch 19/100\n",
            "432/432 [==============================] - 1s 1ms/step - loss: 7.8713e-04\n",
            "Epoch 20/100\n",
            "432/432 [==============================] - 1s 1ms/step - loss: 9.0217e-04\n",
            "Epoch 21/100\n",
            "432/432 [==============================] - 1s 1ms/step - loss: 8.6269e-04\n",
            "Epoch 22/100\n",
            "432/432 [==============================] - 1s 1ms/step - loss: 8.0440e-04\n",
            "Epoch 23/100\n",
            "432/432 [==============================] - 1s 1ms/step - loss: 9.3065e-04\n",
            "Epoch 24/100\n",
            "432/432 [==============================] - 1s 1ms/step - loss: 8.8859e-04\n",
            "Epoch 25/100\n",
            "432/432 [==============================] - 1s 1ms/step - loss: 8.4675e-04\n",
            "Epoch 26/100\n",
            "432/432 [==============================] - 1s 2ms/step - loss: 9.2497e-04\n",
            "Epoch 27/100\n",
            "432/432 [==============================] - 1s 1ms/step - loss: 7.9250e-04\n",
            "Epoch 28/100\n",
            "432/432 [==============================] - 1s 1ms/step - loss: 8.6538e-04\n",
            "Epoch 29/100\n",
            "432/432 [==============================] - 1s 1ms/step - loss: 8.9736e-04\n",
            "Epoch 30/100\n",
            "432/432 [==============================] - 1s 1ms/step - loss: 9.0013e-04\n",
            "Epoch 31/100\n",
            "432/432 [==============================] - 1s 1ms/step - loss: 8.5868e-04\n",
            "Epoch 32/100\n",
            "432/432 [==============================] - 1s 1ms/step - loss: 9.0593e-04\n",
            "Epoch 33/100\n",
            "432/432 [==============================] - 1s 1ms/step - loss: 8.0684e-04\n",
            "Epoch 34/100\n",
            "432/432 [==============================] - 1s 1ms/step - loss: 9.3708e-04\n",
            "Epoch 35/100\n",
            "432/432 [==============================] - 1s 1ms/step - loss: 9.7233e-04\n",
            "Epoch 36/100\n",
            "432/432 [==============================] - 1s 1ms/step - loss: 9.8556e-04\n",
            "Epoch 37/100\n",
            "432/432 [==============================] - 1s 1ms/step - loss: 8.8688e-04\n",
            "Epoch 38/100\n",
            "432/432 [==============================] - 1s 1ms/step - loss: 8.2515e-04\n",
            "Epoch 39/100\n",
            "432/432 [==============================] - 1s 1ms/step - loss: 8.5647e-04\n",
            "Epoch 40/100\n",
            "432/432 [==============================] - 1s 1ms/step - loss: 9.1909e-04\n",
            "Epoch 41/100\n",
            "432/432 [==============================] - 1s 1ms/step - loss: 7.9901e-04\n",
            "Epoch 42/100\n",
            "432/432 [==============================] - 1s 1ms/step - loss: 8.2985e-04\n",
            "Epoch 43/100\n",
            "432/432 [==============================] - 1s 1ms/step - loss: 8.5634e-04\n",
            "Epoch 44/100\n",
            "432/432 [==============================] - 1s 1ms/step - loss: 8.5552e-04\n",
            "Epoch 45/100\n",
            "432/432 [==============================] - 1s 1ms/step - loss: 8.2806e-04\n",
            "Epoch 46/100\n",
            "432/432 [==============================] - 1s 1ms/step - loss: 9.4778e-04\n",
            "Epoch 47/100\n",
            "432/432 [==============================] - 1s 1ms/step - loss: 9.1442e-04\n",
            "Epoch 48/100\n",
            "432/432 [==============================] - 1s 1ms/step - loss: 7.8655e-04\n",
            "Epoch 49/100\n",
            "432/432 [==============================] - 1s 1ms/step - loss: 7.3344e-04\n",
            "Epoch 50/100\n",
            "432/432 [==============================] - 1s 1ms/step - loss: 8.7358e-04\n",
            "Epoch 51/100\n",
            "432/432 [==============================] - 1s 1ms/step - loss: 8.6978e-04\n",
            "Epoch 52/100\n",
            "432/432 [==============================] - 1s 2ms/step - loss: 8.0669e-04\n",
            "Epoch 53/100\n",
            "432/432 [==============================] - 1s 1ms/step - loss: 7.9587e-04\n",
            "Epoch 54/100\n",
            "432/432 [==============================] - 1s 2ms/step - loss: 8.1021e-04\n",
            "Epoch 55/100\n",
            "432/432 [==============================] - 1s 1ms/step - loss: 8.2186e-04\n",
            "Epoch 56/100\n",
            "432/432 [==============================] - 1s 1ms/step - loss: 8.4981e-04\n",
            "Epoch 57/100\n",
            "432/432 [==============================] - 1s 1ms/step - loss: 7.9338e-04\n",
            "Epoch 58/100\n",
            "432/432 [==============================] - 1s 1ms/step - loss: 8.5518e-04\n",
            "Epoch 59/100\n",
            "432/432 [==============================] - 1s 2ms/step - loss: 9.0125e-04\n",
            "Epoch 60/100\n",
            "432/432 [==============================] - 1s 1ms/step - loss: 8.8082e-04\n",
            "Epoch 61/100\n",
            "432/432 [==============================] - 1s 1ms/step - loss: 8.9419e-04\n",
            "Epoch 62/100\n",
            "432/432 [==============================] - 1s 1ms/step - loss: 8.5776e-04\n",
            "Epoch 63/100\n",
            "432/432 [==============================] - 1s 1ms/step - loss: 9.1319e-04\n",
            "Epoch 64/100\n",
            "432/432 [==============================] - 1s 1ms/step - loss: 8.4013e-04\n",
            "Epoch 65/100\n",
            "432/432 [==============================] - 1s 2ms/step - loss: 8.5183e-04\n",
            "Epoch 66/100\n",
            "432/432 [==============================] - 1s 1ms/step - loss: 8.8623e-04\n",
            "Epoch 67/100\n",
            "432/432 [==============================] - 1s 1ms/step - loss: 8.4161e-04\n",
            "Epoch 68/100\n",
            "432/432 [==============================] - 1s 2ms/step - loss: 8.8143e-04\n",
            "Epoch 69/100\n",
            "432/432 [==============================] - 1s 1ms/step - loss: 8.5480e-04\n",
            "Epoch 70/100\n",
            "432/432 [==============================] - 1s 2ms/step - loss: 8.4865e-04\n",
            "Epoch 71/100\n",
            "432/432 [==============================] - 1s 1ms/step - loss: 8.8752e-04\n",
            "Epoch 72/100\n",
            "432/432 [==============================] - 1s 1ms/step - loss: 8.3043e-04\n",
            "Epoch 73/100\n",
            "432/432 [==============================] - 1s 1ms/step - loss: 8.6220e-04\n",
            "Epoch 74/100\n",
            "432/432 [==============================] - 1s 1ms/step - loss: 9.9271e-04\n",
            "Epoch 75/100\n",
            "432/432 [==============================] - 1s 1ms/step - loss: 8.2488e-04\n",
            "Epoch 76/100\n",
            "432/432 [==============================] - 1s 1ms/step - loss: 8.6270e-04\n",
            "Epoch 77/100\n",
            "432/432 [==============================] - 1s 2ms/step - loss: 8.5545e-04\n",
            "Epoch 78/100\n",
            "432/432 [==============================] - 1s 1ms/step - loss: 8.7544e-04\n",
            "Epoch 79/100\n",
            "432/432 [==============================] - 1s 1ms/step - loss: 8.6048e-04\n",
            "Epoch 80/100\n",
            "432/432 [==============================] - 1s 1ms/step - loss: 8.1864e-04\n",
            "Epoch 81/100\n",
            "432/432 [==============================] - 1s 1ms/step - loss: 7.6149e-04\n",
            "Epoch 82/100\n",
            "432/432 [==============================] - 1s 1ms/step - loss: 7.6317e-04\n",
            "Epoch 83/100\n",
            "432/432 [==============================] - 1s 1ms/step - loss: 8.9177e-04\n",
            "Epoch 84/100\n",
            "432/432 [==============================] - 1s 2ms/step - loss: 8.2227e-04\n",
            "Epoch 85/100\n",
            "432/432 [==============================] - 1s 1ms/step - loss: 8.9237e-04\n",
            "Epoch 86/100\n",
            "432/432 [==============================] - 1s 1ms/step - loss: 7.5034e-04\n",
            "Epoch 87/100\n",
            "432/432 [==============================] - 1s 1ms/step - loss: 8.4981e-04\n",
            "Epoch 88/100\n",
            "432/432 [==============================] - 1s 1ms/step - loss: 7.9893e-04\n",
            "Epoch 89/100\n",
            "432/432 [==============================] - 1s 1ms/step - loss: 7.9176e-04\n",
            "Epoch 90/100\n",
            "432/432 [==============================] - 1s 2ms/step - loss: 9.1140e-04\n",
            "Epoch 91/100\n",
            "432/432 [==============================] - 1s 1ms/step - loss: 8.0715e-04\n",
            "Epoch 92/100\n",
            "432/432 [==============================] - 1s 1ms/step - loss: 7.7307e-04\n",
            "Epoch 93/100\n",
            "432/432 [==============================] - 1s 1ms/step - loss: 8.9432e-04\n",
            "Epoch 94/100\n",
            "432/432 [==============================] - 1s 1ms/step - loss: 8.9469e-04\n",
            "Epoch 95/100\n",
            "432/432 [==============================] - 1s 1ms/step - loss: 7.6954e-04\n",
            "Epoch 96/100\n",
            "432/432 [==============================] - 1s 1ms/step - loss: 7.9303e-04\n",
            "Epoch 97/100\n",
            "432/432 [==============================] - 1s 1ms/step - loss: 8.8238e-04\n",
            "Epoch 98/100\n",
            "432/432 [==============================] - 1s 1ms/step - loss: 8.7812e-04\n",
            "Epoch 99/100\n",
            "432/432 [==============================] - 1s 1ms/step - loss: 7.6626e-04\n",
            "Epoch 100/100\n",
            "432/432 [==============================] - 1s 1ms/step - loss: 8.7167e-04\n"
          ],
          "name": "stdout"
        },
        {
          "output_type": "execute_result",
          "data": {
            "text/plain": [
              "<keras.callbacks.History at 0x7f82f46aa110>"
            ]
          },
          "metadata": {
            "tags": []
          },
          "execution_count": 13
        }
      ]
    },
    {
      "cell_type": "code",
      "metadata": {
        "id": "-lYDBE4CesLb"
      },
      "source": [
        "#testing and prediction\n",
        "test_set=df_test.values\n",
        "test_set=scaler.fit_transform(df_test['Close'].values.reshape(-1,1))\n",
        "\n",
        "inputs=np.reshape(test_set,(len(test_set),1))\n",
        "inputs = np.reshape(inputs, (len(inputs), 1, 1))\n",
        "\n",
        "predicted_price = regressor.predict(inputs)\n",
        "predicted_price=scaler.inverse_transform(predicted_price)\n",
        "#print(df_test['Close'].values)\n",
        "#print(predicted_price)"
      ],
      "execution_count": null,
      "outputs": []
    },
    {
      "cell_type": "code",
      "metadata": {
        "colab": {
          "base_uri": "https://localhost:8080/",
          "height": 265
        },
        "id": "9f7odxHLFWEK",
        "outputId": "5f85e182-c2b8-4136-eed8-9d7b341ea371"
      },
      "source": [
        "#data visualisation\n",
        "plt.plot(df_test['Close'].values, color='black',label='actual prices')\n",
        "plt.plot(predicted_price, color='red', label='predicted price')\n",
        "#plt.title(f'{crypto} price prediction')\n",
        "plt.xlabel=('Time')\n",
        "plt.ylabel=('Price')\n",
        "plt.legend(loc='upper left')\n",
        "plt.show()"
      ],
      "execution_count": null,
      "outputs": [
        {
          "output_type": "display_data",
          "data": {
            "image/png": "[encoded data removed]",
            "text/plain": [
              "<Figure size 432x288 with 1 Axes>"
            ]
          },
          "metadata": {
            "tags": [],
            "needs_background": "light"
          }
        }
      ]
    },
    {
      "cell_type": "code",
      "metadata": {
        "id": "quWMtiDOSAY-",
        "colab": {
          "base_uri": "https://localhost:8080/"
        },
        "outputId": "dc3212e1-b531-4cdc-8868-0dc0ef8cdf28"
      },
      "source": [
        "#creating a 2d array with the first value date \n",
        "#and 2nd value 24hrs predicted closing value like so\n",
        "#[[date, closing price],[date, closing price],...]\n",
        "#in this 2d array, first 120 rows will be last 5 day's values[date, closing values]\n",
        "#and last 24 values will be predicted values[date, closing values]\n",
        "#so there will be total 120+24 = 144 rows\n",
        "\n",
        "#getting the list of last 144 dates from the csv file\n",
        "date_list = np.array(df['Date'])[-144:]\n",
        "print(\"date list\", date_list)\n",
        "#print(date_list.size)\n",
        "\n",
        "cp_list = np.array(df['Close'])[-144:]\n",
        "print(\"cp list: \", cp_list)\n",
        "#print(cp_list.size)\n",
        "\n"
      ],
      "execution_count": null,
      "outputs": [
        {
          "output_type": "stream",
          "text": [
            "date list ['16-07-2021 01:00' '16-07-2021 02:00' '16-07-2021 03:00'\n",
            " '16-07-2021 04:00' '16-07-2021 05:00' '16-07-2021 06:00'\n",
            " '16-07-2021 07:00' '16-07-2021 08:00' '16-07-2021 09:00'\n",
            " '16-07-2021 10:00' '16-07-2021 11:00' '16-07-2021 12:00'\n",
            " '16-07-2021 13:00' '16-07-2021 14:00' '16-07-2021 15:00'\n",
            " '16-07-2021 16:00' '16-07-2021 17:00' '16-07-2021 18:00'\n",
            " '16-07-2021 19:00' '16-07-2021 20:00' '16-07-2021 21:00'\n",
            " '16-07-2021 22:00' '16-07-2021 23:00' '17-07-2021 00:00'\n",
            " '17-07-2021 01:00' '17-07-2021 02:00' '17-07-2021 03:00'\n",
            " '17-07-2021 04:00' '17-07-2021 05:00' '17-07-2021 06:00'\n",
            " '17-07-2021 07:00' '17-07-2021 08:00' '17-07-2021 09:00'\n",
            " '17-07-2021 10:00' '17-07-2021 11:00' '17-07-2021 12:00'\n",
            " '17-07-2021 13:00' '17-07-2021 14:00' '17-07-2021 15:00'\n",
            " '17-07-2021 16:00' '17-07-2021 17:00' '17-07-2021 18:00'\n",
            " '17-07-2021 19:00' '17-07-2021 20:00' '17-07-2021 21:00'\n",
            " '17-07-2021 22:00' '17-07-2021 23:00' '18-07-2021 00:00'\n",
            " '18-07-2021 01:00' '18-07-2021 02:00' '18-07-2021 03:00'\n",
            " '18-07-2021 04:00' '18-07-2021 05:00' '18-07-2021 06:00'\n",
            " '18-07-2021 07:00' '18-07-2021 08:00' '18-07-2021 09:00'\n",
            " '18-07-2021 10:00' '18-07-2021 11:00' '18-07-2021 12:00'\n",
            " '18-07-2021 13:00' '18-07-2021 14:00' '18-07-2021 15:00'\n",
            " '18-07-2021 16:00' '18-07-2021 17:00' '18-07-2021 18:00'\n",
            " '18-07-2021 19:00' '18-07-2021 20:00' '18-07-2021 21:00'\n",
            " '18-07-2021 22:00' '18-07-2021 23:00' '19-07-2021 00:00'\n",
            " '19-07-2021 01:00' '19-07-2021 02:00' '19-07-2021 03:00'\n",
            " '19-07-2021 04:00' '19-07-2021 05:00' '19-07-2021 06:00'\n",
            " '19-07-2021 07:00' '19-07-2021 08:00' '19-07-2021 09:00'\n",
            " '19-07-2021 10:00' '19-07-2021 11:00' '19-07-2021 12:00'\n",
            " '19-07-2021 13:00' '19-07-2021 14:00' '19-07-2021 15:00'\n",
            " '19-07-2021 16:00' '19-07-2021 17:00' '19-07-2021 18:00'\n",
            " '19-07-2021 19:00' '19-07-2021 20:00' '19-07-2021 21:00'\n",
            " '19-07-2021 22:00' '19-07-2021 23:00' '20-07-2021 00:00'\n",
            " '20-07-2021 01:00' '20-07-2021 02:00' '20-07-2021 03:00'\n",
            " '20-07-2021 04:00' '20-07-2021 05:00' '20-07-2021 06:00'\n",
            " '20-07-2021 07:00' '20-07-2021 08:00' '20-07-2021 09:00'\n",
            " '20-07-2021 10:00' '20-07-2021 11:00' '20-07-2021 12:00'\n",
            " '20-07-2021 13:00' '20-07-2021 14:00' '20-07-2021 15:00'\n",
            " '20-07-2021 16:00' '20-07-2021 17:00' '20-07-2021 18:00'\n",
            " '20-07-2021 19:00' '20-07-2021 20:00' '20-07-2021 21:00'\n",
            " '20-07-2021 22:00' '20-07-2021 23:00' '21-07-2021 00:00'\n",
            " '21-07-2021 01:00' '21-07-2021 02:00' '21-07-2021 03:00'\n",
            " '21-07-2021 04:00' '21-07-2021 05:00' '21-07-2021 06:00'\n",
            " '21-07-2021 07:00' '21-07-2021 08:00' '21-07-2021 09:00'\n",
            " '21-07-2021 10:00' '21-07-2021 11:00' '21-07-2021 12:00'\n",
            " '21-07-2021 13:00' '21-07-2021 14:00' '21-07-2021 15:00'\n",
            " '21-07-2021 16:00' '21-07-2021 17:00' '21-07-2021 18:00'\n",
            " '21-07-2021 19:00' '21-07-2021 20:00' '21-07-2021 21:00'\n",
            " '21-07-2021 22:00' '21-07-2021 23:00' '22-07-2021 00:00']\n",
            "cp list:  [31808.4  31904.26 31914.89 31907.57 31797.02 31609.14 31774.49 31473.\n",
            " 31399.99 31305.87 31086.53 31714.06 31765.8  31860.93 32127.39 32065.37\n",
            " 32055.24 31956.38 31911.34 31819.98 31719.52 31578.31 31383.87 31636.52\n",
            " 31386.53 31336.08 31306.56 31387.84 31486.95 31580.01 31513.64 31706.44\n",
            " 31609.54 31280.   31391.33 31501.41 31618.78 31637.   31764.75 31683.03\n",
            " 31731.13 31735.04 31834.33 31723.09 31720.   31634.94 31520.07 31975.13\n",
            " 32213.05 32201.82 32166.   32077.25 32059.27 31886.18 31712.1  31762.11\n",
            " 31733.05 31709.43 31801.01 31745.05 31700.17 31322.85 31365.6  31463.57\n",
            " 31595.44 31604.51 31643.8  31630.29 31814.5  31557.91 31778.56 31600.68\n",
            " 31601.76 31515.79 31541.57 31742.   31788.   31793.54 31604.33 31486.58\n",
            " 31379.66 31205.58 31265.92 30713.15 30605.17 30816.05 30687.96 30705.58\n",
            " 30736.09 30652.95 30744.97 30770.62 30716.53 30855.   30839.65 30801.12\n",
            " 30621.61 30182.93 29600.46 29659.12 29729.1  29713.74 29821.73 29635.18\n",
            " 29420.5  29683.13 29692.79 29709.03 29525.57 29747.75 29888.36 29658.97\n",
            " 29659.33 29777.84 29780.86 29851.58 29685.98 29570.19 29790.35 29595.55\n",
            " 29743.15 29826.05 29845.1  30682.96 30687.06 30880.   30817.84 30830.31\n",
            " 31314.2  31385.15 31534.11 31441.9  31499.99 31824.61 31933.   32107.81\n",
            " 32179.1  31786.71 31627.57 31796.9  31835.03 32114.12 32144.51 32200.01]\n"
          ],
          "name": "stdout"
        }
      ]
    },
    {
      "cell_type": "code",
      "metadata": {
        "id": "mMlWuMSz_8K3",
        "colab": {
          "base_uri": "https://localhost:8080/"
        },
        "outputId": "6adc0dba-9a20-4ab8-bedc-a3980d102c88"
      },
      "source": [
        "formatted_prediction = []\n",
        "\n",
        "#this is the list of first 120 rows of existing data\n",
        "for i in range(120):\n",
        "  formatted_prediction.append([date_list[i], cp_list[i]])\n",
        "\n",
        "print(formatted_prediction)\n",
        "print(len(formatted_prediction))"
      ],
      "execution_count": null,
      "outputs": [
        {
          "output_type": "stream",
          "text": [
            "[['16-07-2021 01:00', 31808.4], ['16-07-2021 02:00', 31904.26], ['16-07-2021 03:00', 31914.89], ['16-07-2021 04:00', 31907.57], ['16-07-2021 05:00', 31797.02], ['16-07-2021 06:00', 31609.14], ['16-07-2021 07:00', 31774.49], ['16-07-2021 08:00', 31473.0], ['16-07-2021 09:00', 31399.99], ['16-07-2021 10:00', 31305.87], ['16-07-2021 11:00', 31086.53], ['16-07-2021 12:00', 31714.06], ['16-07-2021 13:00', 31765.8], ['16-07-2021 14:00', 31860.93], ['16-07-2021 15:00', 32127.39], ['16-07-2021 16:00', 32065.37], ['16-07-2021 17:00', 32055.24], ['16-07-2021 18:00', 31956.38], ['16-07-2021 19:00', 31911.34], ['16-07-2021 20:00', 31819.98], ['16-07-2021 21:00', 31719.52], ['16-07-2021 22:00', 31578.31], ['16-07-2021 23:00', 31383.87], ['17-07-2021 00:00', 31636.52], ['17-07-2021 01:00', 31386.53], ['17-07-2021 02:00', 31336.08], ['17-07-2021 03:00', 31306.56], ['17-07-2021 04:00', 31387.84], ['17-07-2021 05:00', 31486.95], ['17-07-2021 06:00', 31580.01], ['17-07-2021 07:00', 31513.64], ['17-07-2021 08:00', 31706.44], ['17-07-2021 09:00', 31609.54], ['17-07-2021 10:00', 31280.0], ['17-07-2021 11:00', 31391.33], ['17-07-2021 12:00', 31501.41], ['17-07-2021 13:00', 31618.78], ['17-07-2021 14:00', 31637.0], ['17-07-2021 15:00', 31764.75], ['17-07-2021 16:00', 31683.03], ['17-07-2021 17:00', 31731.13], ['17-07-2021 18:00', 31735.04], ['17-07-2021 19:00', 31834.33], ['17-07-2021 20:00', 31723.09], ['17-07-2021 21:00', 31720.0], ['17-07-2021 22:00', 31634.94], ['17-07-2021 23:00', 31520.07], ['18-07-2021 00:00', 31975.13], ['18-07-2021 01:00', 32213.05], ['18-07-2021 02:00', 32201.82], ['18-07-2021 03:00', 32166.0], ['18-07-2021 04:00', 32077.25], ['18-07-2021 05:00', 32059.27], ['18-07-2021 06:00', 31886.18], ['18-07-2021 07:00', 31712.1], ['18-07-2021 08:00', 31762.11], ['18-07-2021 09:00', 31733.05], ['18-07-2021 10:00', 31709.43], ['18-07-2021 11:00', 31801.01], ['18-07-2021 12:00', 31745.05], ['18-07-2021 13:00', 31700.17], ['18-07-2021 14:00', 31322.85], ['18-07-2021 15:00', 31365.6], ['18-07-2021 16:00', 31463.57], ['18-07-2021 17:00', 31595.44], ['18-07-2021 18:00', 31604.51], ['18-07-2021 19:00', 31643.8], ['18-07-2021 20:00', 31630.29], ['18-07-2021 21:00', 31814.5], ['18-07-2021 22:00', 31557.91], ['18-07-2021 23:00', 31778.56], ['19-07-2021 00:00', 31600.68], ['19-07-2021 01:00', 31601.76], ['19-07-2021 02:00', 31515.79], ['19-07-2021 03:00', 31541.57], ['19-07-2021 04:00', 31742.0], ['19-07-2021 05:00', 31788.0], ['19-07-2021 06:00', 31793.54], ['19-07-2021 07:00', 31604.33], ['19-07-2021 08:00', 31486.58], ['19-07-2021 09:00', 31379.66], ['19-07-2021 10:00', 31205.58], ['19-07-2021 11:00', 31265.92], ['19-07-2021 12:00', 30713.15], ['19-07-2021 13:00', 30605.17], ['19-07-2021 14:00', 30816.05], ['19-07-2021 15:00', 30687.96], ['19-07-2021 16:00', 30705.58], ['19-07-2021 17:00', 30736.09], ['19-07-2021 18:00', 30652.95], ['19-07-2021 19:00', 30744.97], ['19-07-2021 20:00', 30770.62], ['19-07-2021 21:00', 30716.53], ['19-07-2021 22:00', 30855.0], ['19-07-2021 23:00', 30839.65], ['20-07-2021 00:00', 30801.12], ['20-07-2021 01:00', 30621.61], ['20-07-2021 02:00', 30182.93], ['20-07-2021 03:00', 29600.46], ['20-07-2021 04:00', 29659.12], ['20-07-2021 05:00', 29729.1], ['20-07-2021 06:00', 29713.74], ['20-07-2021 07:00', 29821.73], ['20-07-2021 08:00', 29635.18], ['20-07-2021 09:00', 29420.5], ['20-07-2021 10:00', 29683.13], ['20-07-2021 11:00', 29692.79], ['20-07-2021 12:00', 29709.03], ['20-07-2021 13:00', 29525.57], ['20-07-2021 14:00', 29747.75], ['20-07-2021 15:00', 29888.36], ['20-07-2021 16:00', 29658.97], ['20-07-2021 17:00', 29659.33], ['20-07-2021 18:00', 29777.84], ['20-07-2021 19:00', 29780.86], ['20-07-2021 20:00', 29851.58], ['20-07-2021 21:00', 29685.98], ['20-07-2021 22:00', 29570.19], ['20-07-2021 23:00', 29790.35], ['21-07-2021 00:00', 29595.55]]\n",
            "120\n"
          ],
          "name": "stdout"
        }
      ]
    },
    {
      "cell_type": "code",
      "metadata": {
        "id": "frLb8z6mBgjx",
        "colab": {
          "base_uri": "https://localhost:8080/"
        },
        "outputId": "8c57b2bd-79ae-42a4-f1dd-be4474ecb2a9"
      },
      "source": [
        "\n",
        "for i in range(24):\n",
        "  formatted_prediction.append([date_list[i+120], predicted_price[i]])\n",
        "\n",
        "print(formatted_prediction)\n",
        "print(len(formatted_prediction))"
      ],
      "execution_count": null,
      "outputs": [
        {
          "output_type": "stream",
          "text": [
            "[['16-07-2021 01:00', 31808.4], ['16-07-2021 02:00', 31904.26], ['16-07-2021 03:00', 31914.89], ['16-07-2021 04:00', 31907.57], ['16-07-2021 05:00', 31797.02], ['16-07-2021 06:00', 31609.14], ['16-07-2021 07:00', 31774.49], ['16-07-2021 08:00', 31473.0], ['16-07-2021 09:00', 31399.99], ['16-07-2021 10:00', 31305.87], ['16-07-2021 11:00', 31086.53], ['16-07-2021 12:00', 31714.06], ['16-07-2021 13:00', 31765.8], ['16-07-2021 14:00', 31860.93], ['16-07-2021 15:00', 32127.39], ['16-07-2021 16:00', 32065.37], ['16-07-2021 17:00', 32055.24], ['16-07-2021 18:00', 31956.38], ['16-07-2021 19:00', 31911.34], ['16-07-2021 20:00', 31819.98], ['16-07-2021 21:00', 31719.52], ['16-07-2021 22:00', 31578.31], ['16-07-2021 23:00', 31383.87], ['17-07-2021 00:00', 31636.52], ['17-07-2021 01:00', 31386.53], ['17-07-2021 02:00', 31336.08], ['17-07-2021 03:00', 31306.56], ['17-07-2021 04:00', 31387.84], ['17-07-2021 05:00', 31486.95], ['17-07-2021 06:00', 31580.01], ['17-07-2021 07:00', 31513.64], ['17-07-2021 08:00', 31706.44], ['17-07-2021 09:00', 31609.54], ['17-07-2021 10:00', 31280.0], ['17-07-2021 11:00', 31391.33], ['17-07-2021 12:00', 31501.41], ['17-07-2021 13:00', 31618.78], ['17-07-2021 14:00', 31637.0], ['17-07-2021 15:00', 31764.75], ['17-07-2021 16:00', 31683.03], ['17-07-2021 17:00', 31731.13], ['17-07-2021 18:00', 31735.04], ['17-07-2021 19:00', 31834.33], ['17-07-2021 20:00', 31723.09], ['17-07-2021 21:00', 31720.0], ['17-07-2021 22:00', 31634.94], ['17-07-2021 23:00', 31520.07], ['18-07-2021 00:00', 31975.13], ['18-07-2021 01:00', 32213.05], ['18-07-2021 02:00', 32201.82], ['18-07-2021 03:00', 32166.0], ['18-07-2021 04:00', 32077.25], ['18-07-2021 05:00', 32059.27], ['18-07-2021 06:00', 31886.18], ['18-07-2021 07:00', 31712.1], ['18-07-2021 08:00', 31762.11], ['18-07-2021 09:00', 31733.05], ['18-07-2021 10:00', 31709.43], ['18-07-2021 11:00', 31801.01], ['18-07-2021 12:00', 31745.05], ['18-07-2021 13:00', 31700.17], ['18-07-2021 14:00', 31322.85], ['18-07-2021 15:00', 31365.6], ['18-07-2021 16:00', 31463.57], ['18-07-2021 17:00', 31595.44], ['18-07-2021 18:00', 31604.51], ['18-07-2021 19:00', 31643.8], ['18-07-2021 20:00', 31630.29], ['18-07-2021 21:00', 31814.5], ['18-07-2021 22:00', 31557.91], ['18-07-2021 23:00', 31778.56], ['19-07-2021 00:00', 31600.68], ['19-07-2021 01:00', 31601.76], ['19-07-2021 02:00', 31515.79], ['19-07-2021 03:00', 31541.57], ['19-07-2021 04:00', 31742.0], ['19-07-2021 05:00', 31788.0], ['19-07-2021 06:00', 31793.54], ['19-07-2021 07:00', 31604.33], ['19-07-2021 08:00', 31486.58], ['19-07-2021 09:00', 31379.66], ['19-07-2021 10:00', 31205.58], ['19-07-2021 11:00', 31265.92], ['19-07-2021 12:00', 30713.15], ['19-07-2021 13:00', 30605.17], ['19-07-2021 14:00', 30816.05], ['19-07-2021 15:00', 30687.96], ['19-07-2021 16:00', 30705.58], ['19-07-2021 17:00', 30736.09], ['19-07-2021 18:00', 30652.95], ['19-07-2021 19:00', 30744.97], ['19-07-2021 20:00', 30770.62], ['19-07-2021 21:00', 30716.53], ['19-07-2021 22:00', 30855.0], ['19-07-2021 23:00', 30839.65], ['20-07-2021 00:00', 30801.12], ['20-07-2021 01:00', 30621.61], ['20-07-2021 02:00', 30182.93], ['20-07-2021 03:00', 29600.46], ['20-07-2021 04:00', 29659.12], ['20-07-2021 05:00', 29729.1], ['20-07-2021 06:00', 29713.74], ['20-07-2021 07:00', 29821.73], ['20-07-2021 08:00', 29635.18], ['20-07-2021 09:00', 29420.5], ['20-07-2021 10:00', 29683.13], ['20-07-2021 11:00', 29692.79], ['20-07-2021 12:00', 29709.03], ['20-07-2021 13:00', 29525.57], ['20-07-2021 14:00', 29747.75], ['20-07-2021 15:00', 29888.36], ['20-07-2021 16:00', 29658.97], ['20-07-2021 17:00', 29659.33], ['20-07-2021 18:00', 29777.84], ['20-07-2021 19:00', 29780.86], ['20-07-2021 20:00', 29851.58], ['20-07-2021 21:00', 29685.98], ['20-07-2021 22:00', 29570.19], ['20-07-2021 23:00', 29790.35], ['21-07-2021 00:00', 29595.55], ['21-07-2021 01:00', array([29741.549], dtype=float32)], ['21-07-2021 02:00', array([29822.385], dtype=float32)], ['21-07-2021 03:00', array([29841.018], dtype=float32)], ['21-07-2021 04:00', array([30676.146], dtype=float32)], ['21-07-2021 05:00', array([30680.287], dtype=float32)], ['21-07-2021 06:00', array([30875.496], dtype=float32)], ['21-07-2021 07:00', array([30812.547], dtype=float32)], ['21-07-2021 08:00', array([30825.17], dtype=float32)], ['21-07-2021 09:00', array([31315.71], dtype=float32)], ['21-07-2021 10:00', array([31387.564], dtype=float32)], ['21-07-2021 11:00', array([31538.172], dtype=float32)], ['21-07-2021 12:00', array([31444.988], dtype=float32)], ['21-07-2021 13:00', array([31503.71], dtype=float32)], ['21-07-2021 14:00', array([31830.395], dtype=float32)], ['21-07-2021 15:00', array([31938.729], dtype=float32)], ['21-07-2021 16:00', array([32112.408], dtype=float32)], ['21-07-2021 17:00', array([32159.22], dtype=float32)], ['21-07-2021 18:00', array([31792.414], dtype=float32)], ['21-07-2021 19:00', array([31632.44], dtype=float32)], ['21-07-2021 20:00', array([31802.633], dtype=float32)], ['21-07-2021 21:00', array([31840.828], dtype=float32)], ['21-07-2021 22:00', array([32118.652], dtype=float32)], ['21-07-2021 23:00', array([32142.074], dtype=float32)], ['22-07-2021 00:00', array([32159.22], dtype=float32)]]\n",
            "144\n"
          ],
          "name": "stdout"
        }
      ]
    }
  ]
}